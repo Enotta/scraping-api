{
 "cells": [
  {
   "cell_type": "code",
   "execution_count": 30,
   "metadata": {},
   "outputs": [],
   "source": [
    "import logging\n",
    "\n",
    "# Настройки логгера\n",
    "logging.basicConfig(level=logging.INFO, filename=\"py_log.log\", filemode=\"w\", encoding=\"utf-8\")"
   ]
  },
  {
   "cell_type": "code",
   "execution_count": 31,
   "metadata": {},
   "outputs": [],
   "source": [
    "import time\n",
    "import random\n",
    "import pandas as pd\n",
    "from bs4 import BeautifulSoup\n",
    "from selenium import webdriver\n",
    "from selenium.webdriver.chrome.service import Service\n",
    "from selenium.webdriver.chrome.options import Options\n",
    "from selenium.webdriver.common.by import By\n",
    "from selenium.webdriver.common.keys import Keys"
   ]
  },
  {
   "cell_type": "code",
   "execution_count": null,
   "metadata": {},
   "outputs": [],
   "source": [
    "# Настройки Selenium\n",
    "chrome_options = Options()\n",
    "chrome_options.add_argument(\"--headless\")  # Запуск без GUI\n",
    "chrome_options.add_argument(\"--no-sandbox\")\n",
    "chrome_options.add_argument(\"--disable-dev-shm-usage\")\n",
    "\n",
    "driver = webdriver.Chrome()\n",
    "\n",
    "BASE_URLS = [\n",
    "    \"https://ria.ru/politics/\",\n",
    "    \"https://ria.ru/world/\",\n",
    "    \"https://ria.ru/economy/\",\n",
    "    \"https://ria.ru/society/\",\n",
    "    \"https://ria.ru/incidents/\",\n",
    "    \"https://ria.ru/defense_safety/\"\n",
    "]\n",
    "\n",
    "# Функция для получения ссылок на новости\n",
    "def get_news(max_pages):\n",
    "    for BASE_URL in BASE_URLS:\n",
    "        logging.info(msg=f\"Парсинг {BASE_URL.split(\"/\")[-2]}\")\n",
    "        news = []\n",
    "        driver.get(BASE_URL)\n",
    "        time.sleep(random.random()+2)\n",
    "\n",
    "        for _ in range(max_pages):\n",
    "            # Прокрутка страницы вниз для подгрузки контента\n",
    "            driver.find_element(By.TAG_NAME, \"body\").send_keys(Keys.END)\n",
    "            time.sleep(3)\n",
    "        \n",
    "        soup = BeautifulSoup(driver.page_source, 'html.parser')\n",
    "        for item in soup.find_all('div', {\"class\": \"list-item\"}):\n",
    "            current = {}\n",
    "\n",
    "            current['text'] = item.find(\"div\", {\"class\": \"list-item__content\"}).find(\"a\", {\"class\": \"list-item__title\"}).text\n",
    "\n",
    "            for info in item.find(\"div\", {\"class\": \"list-item__info\"}).find_all(\"div\", {\"class\": \"list-item__info-item\"}):\n",
    "                if info.find(\"span\") is None:\n",
    "                    current['date'] = info.text\n",
    "                else:\n",
    "                    current['views'] = info.find(\"span\").text\n",
    "\n",
    "            current['tags'] = []\n",
    "            for tag in item.find(\"div\", {\"class\": \"list-item__tags\"}).find(\"div\", {\"class\": \"list-item__tags-list\"}).find_all(\"a\", {\"class\": \"list-tag\"}):\n",
    "                current['tags'].append(tag.find(\"span\", {\"class\": \"list-tag__text\"}).text)\n",
    "                \n",
    "            news.append(current)\n",
    "\n",
    "        news_df = pd.DataFrame(news)\n",
    "        news_df.to_csv(f\"{BASE_URL.split(\"/\")[-2]}.csv\", index=False, encoding=\"utf-8-sig\")\n",
    "        logging.info(msg=f\"Парсинг {BASE_URL.split(\"/\")[-2]} прошёл успешно. Значений пропаршено {news_df.shape[0]}\")\n",
    "        \n",
    "    return news\n",
    "\n",
    "get_news(100)\n",
    "driver.quit()\n",
    "\n",
    "logging.info(msg=f\"Скрепинг завершен\")"
   ]
  },
  {
   "cell_type": "code",
   "execution_count": 35,
   "metadata": {},
   "outputs": [
    {
     "data": {
      "text/html": [
       "<div>\n",
       "<style scoped>\n",
       "    .dataframe tbody tr th:only-of-type {\n",
       "        vertical-align: middle;\n",
       "    }\n",
       "\n",
       "    .dataframe tbody tr th {\n",
       "        vertical-align: top;\n",
       "    }\n",
       "\n",
       "    .dataframe thead th {\n",
       "        text-align: right;\n",
       "    }\n",
       "</style>\n",
       "<table border=\"1\" class=\"dataframe\">\n",
       "  <thead>\n",
       "    <tr style=\"text-align: right;\">\n",
       "      <th></th>\n",
       "      <th>text</th>\n",
       "      <th>date</th>\n",
       "      <th>views</th>\n",
       "      <th>tags</th>\n",
       "    </tr>\n",
       "  </thead>\n",
       "  <tbody>\n",
       "    <tr>\n",
       "      <th>0</th>\n",
       "      <td>Путин назначил Баланина замглавы Минюста России</td>\n",
       "      <td>14:41</td>\n",
       "      <td>1424</td>\n",
       "      <td>['Политика', 'Россия', 'Владимир Путин', 'Всев...</td>\n",
       "    </tr>\n",
       "    <tr>\n",
       "      <th>1</th>\n",
       "      <td>Избранный президент Абхазии назвал отношения с...</td>\n",
       "      <td>14:34</td>\n",
       "      <td>4921</td>\n",
       "      <td>['Политика', 'Россия', 'Абхазия', 'В мире', 'Б...</td>\n",
       "    </tr>\n",
       "    <tr>\n",
       "      <th>2</th>\n",
       "      <td>Путин отметил мужество жителей Татарстана, вою...</td>\n",
       "      <td>13:53</td>\n",
       "      <td>1055</td>\n",
       "      <td>['Политика', 'Россия', 'Владимир Путин', 'Руст...</td>\n",
       "    </tr>\n",
       "    <tr>\n",
       "      <th>3</th>\n",
       "      <td>Хинштейн заявил о саботаже его поручений курск...</td>\n",
       "      <td>12:51</td>\n",
       "      <td>55854</td>\n",
       "      <td>['Политика', 'Железногорск ', 'Курская область...</td>\n",
       "    </tr>\n",
       "    <tr>\n",
       "      <th>4</th>\n",
       "      <td>Путин в понедельник встретится с главой Татарс...</td>\n",
       "      <td>12:39</td>\n",
       "      <td>659</td>\n",
       "      <td>['Политика', 'Республика Татарстан (Татарстан)...</td>\n",
       "    </tr>\n",
       "  </tbody>\n",
       "</table>\n",
       "</div>"
      ],
      "text/plain": [
       "                                                text   date  views  \\\n",
       "0   Путин назначил Баланина замглавы Минюста России   14:41   1424   \n",
       "1  Избранный президент Абхазии назвал отношения с...  14:34   4921   \n",
       "2  Путин отметил мужество жителей Татарстана, вою...  13:53   1055   \n",
       "3  Хинштейн заявил о саботаже его поручений курск...  12:51  55854   \n",
       "4  Путин в понедельник встретится с главой Татарс...  12:39    659   \n",
       "\n",
       "                                                tags  \n",
       "0  ['Политика', 'Россия', 'Владимир Путин', 'Всев...  \n",
       "1  ['Политика', 'Россия', 'Абхазия', 'В мире', 'Б...  \n",
       "2  ['Политика', 'Россия', 'Владимир Путин', 'Руст...  \n",
       "3  ['Политика', 'Железногорск ', 'Курская область...  \n",
       "4  ['Политика', 'Республика Татарстан (Татарстан)...  "
      ]
     },
     "execution_count": 35,
     "metadata": {},
     "output_type": "execute_result"
    }
   ],
   "source": [
    "df = pd.read_csv('politics.csv')\n",
    "df.head()"
   ]
  },
  {
   "cell_type": "code",
   "execution_count": 36,
   "metadata": {},
   "outputs": [],
   "source": [
    "for theme in BASE_URLS[1:]:\n",
    "    temp = pd.read_csv(f\"{theme.split(\"/\")[-2]}.csv\")\n",
    "    df = pd.concat([df, temp], ignore_index=True)"
   ]
  },
  {
   "cell_type": "code",
   "execution_count": 37,
   "metadata": {},
   "outputs": [],
   "source": [
    "df.to_csv(\"scraping.csv\")"
   ]
  }
 ],
 "metadata": {
  "kernelspec": {
   "display_name": "Python 3",
   "language": "python",
   "name": "python3"
  },
  "language_info": {
   "codemirror_mode": {
    "name": "ipython",
    "version": 3
   },
   "file_extension": ".py",
   "mimetype": "text/x-python",
   "name": "python",
   "nbconvert_exporter": "python",
   "pygments_lexer": "ipython3",
   "version": "3.13.2"
  }
 },
 "nbformat": 4,
 "nbformat_minor": 2
}
